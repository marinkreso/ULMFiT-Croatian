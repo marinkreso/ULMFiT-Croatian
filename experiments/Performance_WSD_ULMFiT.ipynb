{
 "cells": [
  {
   "cell_type": "code",
   "execution_count": 1,
   "metadata": {},
   "outputs": [
    {
     "name": "stdout",
     "output_type": "stream",
     "text": [
      "DEVICE NAME: GeForce GTX 1080\n",
      "DEVICE COUNT: 1\n",
      "CURRENT DEVICE: 0\n"
     ]
    }
   ],
   "source": [
    "import torch\n",
    "import pandas as pd\n",
    "from sklearn.metrics import accuracy_score\n",
    "from sklearn.model_selection import train_test_split, KFold\n",
    "print(\"DEVICE NAME:\", torch.cuda.get_device_name(0))\n",
    "print(\"DEVICE COUNT:\", torch.cuda.device_count())\n",
    "print(\"CURRENT DEVICE:\", torch.cuda.current_device())\n",
    "import warnings\n",
    "warnings.filterwarnings('ignore')"
   ]
  },
  {
   "cell_type": "code",
   "execution_count": 2,
   "metadata": {},
   "outputs": [
    {
     "name": "stdout",
     "output_type": "stream",
     "text": [
      "/home/mkreso/master_thesis/ulmfit-multilingual\n"
     ]
    }
   ],
   "source": [
    "from fastai import *\n",
    "from fastai.text import *\n",
    "from fastai.core import *\n",
    "from pathlib import Path\n",
    "import pandas as pd\n",
    "import numpy as np\n",
    "%cd ..\n",
    "from ulmfit.pretrain_lm import *\n",
    "from fastai.callbacks import CSVLogger, SaveModelCallback\n"
   ]
  },
  {
   "cell_type": "code",
   "execution_count": 3,
   "metadata": {},
   "outputs": [],
   "source": [
    "wiki_data_path = Path('data/wiki/hr-100/')"
   ]
  },
  {
   "cell_type": "markdown",
   "metadata": {},
   "source": [
    "# PERFORMANCE OF ULMFiT EMBEDDINGS ON WSD TASK¶"
   ]
  },
  {
   "cell_type": "markdown",
   "metadata": {},
   "source": [
    "## 1. train-test split (400 in train, 100 in test)"
   ]
  },
  {
   "cell_type": "code",
   "execution_count": 4,
   "metadata": {},
   "outputs": [],
   "source": [
    "def train_lm(name):    \n",
    "    data_lm = TextLMDataBunch.from_csv(wiki_data_path, name + '_ulmfit.csv', text_cols=0, bs=30)\n",
    "    itos, stoi, data_path = data_lm.vocab.itos, data_lm.vocab.stoi, data_lm.path\n",
    "    pretrained_fnames = ['hr-100-best', 'itos']\n",
    "    learner = language_model_learner(data_lm, AWD_LSTM, pretrained_fnames=pretrained_fnames, drop_mult=0.9, \n",
    "                             model_dir='./models')\n",
    "    learner.freeze()\n",
    "    learner.opt_func = partial(optim.Adam, betas=(0.8, 0.99))\n",
    "    learner.lr_find()\n",
    "    #learner.recorder.plot(skip_end=15)\n",
    "    learner.fit_one_cycle(1, 1e-2)\n",
    "    learner.unfreeze()\n",
    "    learner.fit_one_cycle(5, 1e-3, moms=(0.8,0.7))\n",
    "    #learner.save('lm_fine_tuned_wsd')\n",
    "    learner.save_encoder('ft_enc_wsd_' + name)\n",
    "    return data_lm"
   ]
  },
  {
   "cell_type": "code",
   "execution_count": 5,
   "metadata": {},
   "outputs": [],
   "source": [
    "def train_classifier(name, data_lm):\n",
    "    df_class = pd.read_csv('data/wiki/hr-100/' + name + '_ulmfit.csv')\n",
    "    df_train, df_test = train_test_split(df_class, test_size=0.2, random_state=0)\n",
    "    df_train, df_valid = train_test_split(df_train, test_size=0.1, random_state=0)\n",
    "    data_class = TextClasDataBunch.from_df(path=wiki_data_path,\n",
    "                                          train_df=df_train,\n",
    "                                          valid_df=df_valid,\n",
    "                                           test_df=df_test,\n",
    "                                          vocab=data_lm.vocab, text_cols='sentence', label_cols='sense_id', bs=30)\n",
    "    learner = text_classifier_learner(data_class, AWD_LSTM, drop_mult=0.5)\n",
    "    learner.load_encoder('ft_enc_wsd_' + name)\n",
    "    learner.freeze()\n",
    "\n",
    "    learner.fit_one_cycle(1, 1e-2, moms=(0.8, 0.7))\n",
    "    learner.freeze_to(-2)\n",
    "    learner.fit_one_cycle(1, slice(1e-2/(2.6**4),1e-2), moms=(0.8,0.7))\n",
    "    learner.freeze_to(-3)\n",
    "    learner.fit_one_cycle(1, slice(5e-3/(2.6**4),5e-3), moms=(0.8,0.7))\n",
    "    learner.unfreeze()\n",
    "    learner.fit_one_cycle(5, slice(1e-3/(2.6**4),1e-3), moms=(0.8,0.7))\n",
    "    \n",
    "    p = learner.get_preds(DatasetType.Test, ordered=True)[0].numpy()\n",
    "    predictions = np.argmax(p, axis=1)\n",
    "    \n",
    "    df_test['label'] = 0\n",
    "    for i in range(1, len(data_class.train_ds.classes)):\n",
    "        df_test.loc[df_test.sense_id == data_class.train_ds.classes[i], 'label' ] = i\n",
    "    print(\"ACCURACY -\", name + ':', accuracy_score(df_test.label.values, predictions))"
   ]
  },
  {
   "cell_type": "code",
   "execution_count": 182,
   "metadata": {},
   "outputs": [
    {
     "name": "stdout",
     "output_type": "stream",
     "text": [
      "ACCURACY - okvir: 0.94\n"
     ]
    }
   ],
   "source": [
    "data_lm = train_lm('okvir')\n",
    "train_classifier('okvir', data_lm)"
   ]
  },
  {
   "cell_type": "code",
   "execution_count": 183,
   "metadata": {},
   "outputs": [
    {
     "name": "stdout",
     "output_type": "stream",
     "text": [
      "ACCURACY - prljav: 0.73\n"
     ]
    }
   ],
   "source": [
    "data_lm = train_lm('prljav')\n",
    "train_classifier('prljav', data_lm)"
   ]
  },
  {
   "cell_type": "code",
   "execution_count": 184,
   "metadata": {},
   "outputs": [
    {
     "name": "stdout",
     "output_type": "stream",
     "text": [
      "ACCURACY - lak: 0.78\n"
     ]
    }
   ],
   "source": [
    "data_lm = train_lm('lak')\n",
    "train_classifier('lak', data_lm)"
   ]
  },
  {
   "cell_type": "code",
   "execution_count": 185,
   "metadata": {},
   "outputs": [
    {
     "name": "stdout",
     "output_type": "stream",
     "text": [
      "ACCURACY - vatra: 0.84\n"
     ]
    }
   ],
   "source": [
    "data_lm = train_lm('vatra')\n",
    "train_classifier('vatra', data_lm)"
   ]
  },
  {
   "cell_type": "code",
   "execution_count": 186,
   "metadata": {},
   "outputs": [
    {
     "name": "stdout",
     "output_type": "stream",
     "text": [
      "ACCURACY - brusiti: 0.76\n"
     ]
    }
   ],
   "source": [
    "data_lm = train_lm('brusiti')\n",
    "train_classifier('brusiti', data_lm)"
   ]
  },
  {
   "cell_type": "code",
   "execution_count": 187,
   "metadata": {},
   "outputs": [
    {
     "name": "stdout",
     "output_type": "stream",
     "text": [
      "ACCURACY - odlikovati: 0.99\n"
     ]
    }
   ],
   "source": [
    "data_lm = train_lm('odlikovati')\n",
    "train_classifier('odlikovati', data_lm)"
   ]
  },
  {
   "cell_type": "code",
   "execution_count": 6,
   "metadata": {},
   "outputs": [],
   "source": [
    "def train_lm_v2(name):    \n",
    "    data_lm = TextLMDataBunch.from_csv(wiki_data_path, name + '_ulmfit.csv', text_cols=0, bs=30)\n",
    "    itos, stoi, data_path = data_lm.vocab.itos, data_lm.vocab.stoi, data_lm.path\n",
    "    pretrained_fnames = ['hr-100-best', 'itos']\n",
    "    learner = language_model_learner(data_lm, AWD_LSTM, pretrained_fnames=pretrained_fnames, drop_mult=0.9, \n",
    "                             model_dir='./models')\n",
    "    \n",
    "    learner.save_encoder('ft_enc_wsd_' + name)\n",
    "    return data_lm"
   ]
  },
  {
   "cell_type": "code",
   "execution_count": 7,
   "metadata": {},
   "outputs": [
    {
     "name": "stdout",
     "output_type": "stream",
     "text": [
      "ACCURACY - okvir: 0.87\n"
     ]
    }
   ],
   "source": [
    "data_lm = train_lm_v2('okvir')\n",
    "train_classifier('okvir', data_lm)"
   ]
  },
  {
   "cell_type": "code",
   "execution_count": 8,
   "metadata": {},
   "outputs": [
    {
     "name": "stdout",
     "output_type": "stream",
     "text": [
      "ACCURACY - prljav: 0.67\n"
     ]
    }
   ],
   "source": [
    "data_lm = train_lm_v2('prljav')\n",
    "train_classifier('prljav', data_lm)"
   ]
  },
  {
   "cell_type": "code",
   "execution_count": 9,
   "metadata": {},
   "outputs": [
    {
     "name": "stdout",
     "output_type": "stream",
     "text": [
      "ACCURACY - lak: 0.77\n"
     ]
    }
   ],
   "source": [
    "data_lm = train_lm_v2('lak')\n",
    "train_classifier('lak', data_lm)"
   ]
  },
  {
   "cell_type": "code",
   "execution_count": 10,
   "metadata": {},
   "outputs": [
    {
     "name": "stdout",
     "output_type": "stream",
     "text": [
      "ACCURACY - vatra: 0.85\n"
     ]
    }
   ],
   "source": [
    "data_lm = train_lm_v2('vatra')\n",
    "train_classifier('vatra', data_lm)"
   ]
  },
  {
   "cell_type": "code",
   "execution_count": 11,
   "metadata": {},
   "outputs": [
    {
     "name": "stdout",
     "output_type": "stream",
     "text": [
      "ACCURACY - brusiti: 0.76\n"
     ]
    }
   ],
   "source": [
    "data_lm = train_lm_v2('brusiti')\n",
    "train_classifier('brusiti', data_lm)"
   ]
  },
  {
   "cell_type": "code",
   "execution_count": 12,
   "metadata": {},
   "outputs": [
    {
     "name": "stdout",
     "output_type": "stream",
     "text": [
      "ACCURACY - odlikovati: 0.99\n"
     ]
    }
   ],
   "source": [
    "data_lm = train_lm_v2('odlikovati')\n",
    "train_classifier('odlikovati', data_lm)"
   ]
  },
  {
   "cell_type": "markdown",
   "metadata": {},
   "source": [
    "## 2. 5 fold cross validation"
   ]
  },
  {
   "cell_type": "code",
   "execution_count": 15,
   "metadata": {},
   "outputs": [],
   "source": [
    "def cv_ulmfit(name, data_lm):\n",
    "    df = pd.read_csv('data/wiki/hr-100/' + name + '_ulmfit.csv')\n",
    "    kf = KFold(n_splits=5, random_state=0, shuffle=True)\n",
    "    \n",
    "    features = df.sentence.values\n",
    "    labels = df.sense_id.values\n",
    "    accuracies = []\n",
    "    for train_index, test_index in kf.split(features):\n",
    "        X_train, X_test = features[train_index], features[test_index]\n",
    "        y_train, y_test = labels[train_index], labels[test_index]\n",
    "        df_train = pd.DataFrame({'sentence': X_train, 'sense_id': y_train})\n",
    "        df_test = pd.DataFrame({'sentence': X_test, 'sense_id': y_test})\n",
    "        \n",
    "        df_train, df_valid = train_test_split(df_train, test_size=0.1, random_state=0)\n",
    "        data_class = TextClasDataBunch.from_df(path=wiki_data_path,\n",
    "                                          train_df=df_train,\n",
    "                                          valid_df=df_valid,\n",
    "                                           test_df=df_test,\n",
    "                                          vocab=data_lm.vocab, text_cols='sentence', label_cols='sense_id', bs=30)\n",
    "        learner = text_classifier_learner(data_class, AWD_LSTM, drop_mult=0.5)\n",
    "        learner.load_encoder('ft_enc_wsd_' + name)\n",
    "        learner.freeze()\n",
    "\n",
    "        learner.fit_one_cycle(1, 1e-2, moms=(0.8, 0.7))\n",
    "        learner.freeze_to(-2)\n",
    "        learner.fit_one_cycle(1, slice(1e-2/(2.6**4),1e-2), moms=(0.8,0.7))\n",
    "        learner.freeze_to(-3)\n",
    "        learner.fit_one_cycle(1, slice(5e-3/(2.6**4),5e-3), moms=(0.8,0.7))\n",
    "        learner.unfreeze()\n",
    "        learner.fit_one_cycle(5, slice(1e-3/(2.6**4),1e-3), moms=(0.8,0.7))\n",
    "\n",
    "        p = learner.get_preds(DatasetType.Test, ordered=True)[0].numpy()\n",
    "        predictions = np.argmax(p, axis=1)\n",
    "\n",
    "        df_test['label'] = 0\n",
    "        for i in range(1, len(data_class.train_ds.classes)):\n",
    "            df_test.loc[df_test.sense_id == data_class.train_ds.classes[i], 'label' ] = i\n",
    "        accuracies.append(accuracy_score(df_test.label.values, predictions))\n",
    "    print('ACCURACY:', sum(accuracies) / len(accuracies))\n",
    "    return accuracies\n",
    "\n",
    "        \n",
    "                                \n",
    "                               "
   ]
  },
  {
   "cell_type": "code",
   "execution_count": 7,
   "metadata": {},
   "outputs": [
    {
     "name": "stdout",
     "output_type": "stream",
     "text": [
      "ACCURACY: 0.9019999999999999\n"
     ]
    },
    {
     "data": {
      "text/plain": [
       "[0.84, 0.88, 0.96, 0.89, 0.94]"
      ]
     },
     "execution_count": 7,
     "metadata": {},
     "output_type": "execute_result"
    }
   ],
   "source": [
    "data_lm = train_lm('okvir')\n",
    "cv_ulmfit('okvir', data_lm)"
   ]
  },
  {
   "cell_type": "code",
   "execution_count": 8,
   "metadata": {},
   "outputs": [
    {
     "name": "stdout",
     "output_type": "stream",
     "text": [
      "ACCURACY: 0.758\n"
     ]
    },
    {
     "data": {
      "text/plain": [
       "[0.76, 0.75, 0.71, 0.81, 0.76]"
      ]
     },
     "execution_count": 8,
     "metadata": {},
     "output_type": "execute_result"
    }
   ],
   "source": [
    "data_lm = train_lm('prljav')\n",
    "cv_ulmfit('prljav', data_lm)"
   ]
  },
  {
   "cell_type": "code",
   "execution_count": 9,
   "metadata": {},
   "outputs": [
    {
     "name": "stdout",
     "output_type": "stream",
     "text": [
      "ACCURACY: 0.7999999999999999\n"
     ]
    },
    {
     "data": {
      "text/plain": [
       "[0.77, 0.74, 0.79, 0.86, 0.84]"
      ]
     },
     "execution_count": 9,
     "metadata": {},
     "output_type": "execute_result"
    }
   ],
   "source": [
    "data_lm = train_lm('lak')\n",
    "cv_ulmfit('lak', data_lm)"
   ]
  },
  {
   "cell_type": "code",
   "execution_count": 10,
   "metadata": {},
   "outputs": [
    {
     "name": "stdout",
     "output_type": "stream",
     "text": [
      "ACCURACY: 0.86\n"
     ]
    },
    {
     "data": {
      "text/plain": [
       "[0.86, 0.9, 0.86, 0.82, 0.86]"
      ]
     },
     "execution_count": 10,
     "metadata": {},
     "output_type": "execute_result"
    }
   ],
   "source": [
    "data_lm = train_lm('vatra')\n",
    "cv_ulmfit('vatra', data_lm)"
   ]
  },
  {
   "cell_type": "code",
   "execution_count": 11,
   "metadata": {},
   "outputs": [
    {
     "name": "stdout",
     "output_type": "stream",
     "text": [
      "ACCURACY: 0.792\n"
     ]
    },
    {
     "data": {
      "text/plain": [
       "[0.74, 0.8, 0.79, 0.78, 0.85]"
      ]
     },
     "execution_count": 11,
     "metadata": {},
     "output_type": "execute_result"
    }
   ],
   "source": [
    "data_lm = train_lm('brusiti')\n",
    "cv_ulmfit('brusiti', data_lm)"
   ]
  },
  {
   "cell_type": "code",
   "execution_count": 12,
   "metadata": {},
   "outputs": [
    {
     "name": "stdout",
     "output_type": "stream",
     "text": [
      "ACCURACY: 0.984\n"
     ]
    },
    {
     "data": {
      "text/plain": [
       "[1.0, 0.99, 0.98, 0.98, 0.97]"
      ]
     },
     "execution_count": 12,
     "metadata": {},
     "output_type": "execute_result"
    }
   ],
   "source": [
    "data_lm = train_lm('odlikovati')\n",
    "cv_ulmfit('odlikovati', data_lm)"
   ]
  },
  {
   "cell_type": "code",
   "execution_count": 16,
   "metadata": {},
   "outputs": [
    {
     "name": "stdout",
     "output_type": "stream",
     "text": [
      "ACCURACY: 0.906\n"
     ]
    },
    {
     "data": {
      "text/plain": [
       "[0.86, 0.91, 0.91, 0.92, 0.93]"
      ]
     },
     "execution_count": 16,
     "metadata": {},
     "output_type": "execute_result"
    }
   ],
   "source": [
    "data_lm = train_lm_v2('okvir')\n",
    "cv_ulmfit('okvir', data_lm)"
   ]
  },
  {
   "cell_type": "code",
   "execution_count": 17,
   "metadata": {},
   "outputs": [
    {
     "name": "stdout",
     "output_type": "stream",
     "text": [
      "ACCURACY: 0.724\n"
     ]
    },
    {
     "data": {
      "text/plain": [
       "[0.69, 0.7, 0.7, 0.78, 0.75]"
      ]
     },
     "execution_count": 17,
     "metadata": {},
     "output_type": "execute_result"
    }
   ],
   "source": [
    "data_lm = train_lm_v2('prljav')\n",
    "cv_ulmfit('prljav', data_lm)"
   ]
  },
  {
   "cell_type": "code",
   "execution_count": 18,
   "metadata": {},
   "outputs": [
    {
     "name": "stdout",
     "output_type": "stream",
     "text": [
      "ACCURACY: 0.788\n"
     ]
    },
    {
     "data": {
      "text/plain": [
       "[0.74, 0.76, 0.78, 0.84, 0.82]"
      ]
     },
     "execution_count": 18,
     "metadata": {},
     "output_type": "execute_result"
    }
   ],
   "source": [
    "data_lm = train_lm_v2('lak')\n",
    "cv_ulmfit('lak', data_lm)"
   ]
  },
  {
   "cell_type": "code",
   "execution_count": 19,
   "metadata": {},
   "outputs": [
    {
     "name": "stdout",
     "output_type": "stream",
     "text": [
      "ACCURACY: 0.8280000000000001\n"
     ]
    },
    {
     "data": {
      "text/plain": [
       "[0.81, 0.87, 0.84, 0.81, 0.81]"
      ]
     },
     "execution_count": 19,
     "metadata": {},
     "output_type": "execute_result"
    }
   ],
   "source": [
    "data_lm = train_lm_v2('vatra')\n",
    "cv_ulmfit('vatra', data_lm)"
   ]
  },
  {
   "cell_type": "code",
   "execution_count": 20,
   "metadata": {},
   "outputs": [
    {
     "name": "stdout",
     "output_type": "stream",
     "text": [
      "ACCURACY: 0.784\n"
     ]
    },
    {
     "data": {
      "text/plain": [
       "[0.77, 0.77, 0.78, 0.77, 0.83]"
      ]
     },
     "execution_count": 20,
     "metadata": {},
     "output_type": "execute_result"
    }
   ],
   "source": [
    "data_lm = train_lm_v2('brusiti')\n",
    "cv_ulmfit('brusiti', data_lm)"
   ]
  },
  {
   "cell_type": "code",
   "execution_count": 21,
   "metadata": {},
   "outputs": [
    {
     "name": "stdout",
     "output_type": "stream",
     "text": [
      "ACCURACY: 0.976\n"
     ]
    },
    {
     "data": {
      "text/plain": [
       "[1.0, 0.99, 0.98, 0.95, 0.96]"
      ]
     },
     "execution_count": 21,
     "metadata": {},
     "output_type": "execute_result"
    }
   ],
   "source": [
    "data_lm = train_lm_v2('odlikovati')\n",
    "cv_ulmfit('odlikovati', data_lm)"
   ]
  },
  {
   "cell_type": "code",
   "execution_count": 227,
   "metadata": {},
   "outputs": [],
   "source": [
    "a = np.array(a)"
   ]
  },
  {
   "cell_type": "code",
   "execution_count": 228,
   "metadata": {},
   "outputs": [
    {
     "data": {
      "text/plain": [
       "(0.8345866799354553, 0.15050582587718964)"
      ]
     },
     "execution_count": 228,
     "metadata": {},
     "output_type": "execute_result"
    }
   ],
   "source": [
    "stats.shapiro(a)"
   ]
  },
  {
   "cell_type": "code",
   "execution_count": 229,
   "metadata": {},
   "outputs": [
    {
     "data": {
      "text/plain": [
       "KstestResult(statistic=0.7389137003071384, pvalue=0.0025292220467791346)"
      ]
     },
     "execution_count": 229,
     "metadata": {},
     "output_type": "execute_result"
    }
   ],
   "source": [
    "stats.kstest(a,'norm')"
   ]
  },
  {
   "cell_type": "code",
   "execution_count": 224,
   "metadata": {},
   "outputs": [
    {
     "name": "stdout",
     "output_type": "stream",
     "text": [
      "15.000: 0.720, data looks normal (fail to reject H0)\n",
      "10.000: 0.820, data looks normal (fail to reject H0)\n",
      "5.000: 0.984, data looks normal (fail to reject H0)\n",
      "2.500: 1.148, data looks normal (fail to reject H0)\n",
      "1.000: 1.365, data looks normal (fail to reject H0)\n"
     ]
    }
   ],
   "source": [
    "result = stats.anderson(a, dist='norm')\n",
    "for i in range(len(result.critical_values)):\n",
    "    sl, cv = result.significance_level[i], result.critical_values[i]\n",
    "    if result.statistic < result.critical_values[i]:\n",
    "        print('%.3f: %.3f, data looks normal (fail to reject H0)' % (sl, cv))\n",
    "    else:\n",
    "        print('%.3f: %.3f, data does not look normal (reject H0)' % (sl, cv))\n"
   ]
  },
  {
   "cell_type": "code",
   "execution_count": null,
   "metadata": {},
   "outputs": [],
   "source": []
  }
 ],
 "metadata": {
  "kernelspec": {
   "display_name": "Python 3",
   "language": "python",
   "name": "python3"
  },
  "language_info": {
   "codemirror_mode": {
    "name": "ipython",
    "version": 3
   },
   "file_extension": ".py",
   "mimetype": "text/x-python",
   "name": "python",
   "nbconvert_exporter": "python",
   "pygments_lexer": "ipython3",
   "version": "3.7.3"
  }
 },
 "nbformat": 4,
 "nbformat_minor": 2
}
