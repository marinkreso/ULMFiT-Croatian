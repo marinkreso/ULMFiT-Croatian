{
 "cells": [
  {
   "cell_type": "code",
   "execution_count": 1,
   "metadata": {},
   "outputs": [
    {
     "name": "stdout",
     "output_type": "stream",
     "text": [
      "DEVICE NAME: GeForce GTX 1080\n",
      "DEVICE COUNT: 1\n",
      "CURRENT DEVICE: 0\n"
     ]
    }
   ],
   "source": [
    "import torch\n",
    "print(\"DEVICE NAME:\", torch.cuda.get_device_name(0))\n",
    "print(\"DEVICE COUNT:\", torch.cuda.device_count())\n",
    "print(\"CURRENT DEVICE:\", torch.cuda.current_device())"
   ]
  },
  {
   "cell_type": "code",
   "execution_count": 3,
   "metadata": {},
   "outputs": [
    {
     "name": "stdout",
     "output_type": "stream",
     "text": [
      "/home/mkreso/master_thesis/ulmfit-multilingual\n"
     ]
    }
   ],
   "source": [
    "from fastai import *\n",
    "from fastai.text import *\n",
    "from fastai.core import *\n",
    "from pathlib import Path\n",
    "import pandas as pd\n",
    "import numpy as np\n",
    "%cd ..\n",
    "from ulmfit.pretrain_lm import *\n",
    "from fastai.callbacks import CSVLogger, SaveModelCallback\n"
   ]
  },
  {
   "cell_type": "code",
   "execution_count": 4,
   "metadata": {},
   "outputs": [],
   "source": [
    "wiki_data_path = Path('data/wiki/hr-100/')"
   ]
  },
  {
   "cell_type": "code",
   "execution_count": 15,
   "metadata": {},
   "outputs": [
    {
     "data": {
      "text/plain": [
       "[PosixPath('data/wiki/hr-100/hr.wiki.train.tokens'),\n",
       " PosixPath('data/wiki/hr-100/hr.wiki.test.tokens'),\n",
       " PosixPath('data/wiki/hr-100/models'),\n",
       " PosixPath('data/wiki/hr-100/hr.wiki.valid.tokens'),\n",
       " PosixPath('data/wiki/hr-100/SviTvitovi.txt'),\n",
       " PosixPath('data/wiki/hr-100/data_lm'),\n",
       " PosixPath('data/wiki/hr-100/SviTvitovi.csv')]"
      ]
     },
     "execution_count": 15,
     "metadata": {},
     "output_type": "execute_result"
    }
   ],
   "source": [
    "wiki_data_path.ls()"
   ]
  },
  {
   "cell_type": "code",
   "execution_count": 6,
   "metadata": {},
   "outputs": [],
   "source": [
    "data_lm1 = load_data(wiki_data_path, 'data_lm', bs=30)"
   ]
  },
  {
   "cell_type": "code",
   "execution_count": 8,
   "metadata": {},
   "outputs": [],
   "source": [
    "itos = data_lm1.vocab.itos\n"
   ]
  },
  {
   "cell_type": "code",
   "execution_count": 10,
   "metadata": {},
   "outputs": [
    {
     "name": "stdout",
     "output_type": "stream",
     "text": [
      "Size of vocabulary: 60003\n",
      "First 20 words in vocab: ['xxunk', 'xxpad', 'xxbos', 'xxfld', 'xxmaj', 'xxup', 'xxrep', 'xxwrep', '.', ',', 'je', ':', 'i', 'u', \"'\", '&', '\\n \\n ', '\\n ', 'se', 'na']\n"
     ]
    }
   ],
   "source": [
    "print('Size of vocabulary:', len(itos))\n",
    "print('First 20 words in vocab:', itos[:20])"
   ]
  },
  {
   "cell_type": "code",
   "execution_count": 11,
   "metadata": {},
   "outputs": [],
   "source": [
    "with open(wiki_data_path/'models/itos.pkl',\"wb\") as f:\n",
    "    pickle.dump(data_lm1.vocab.itos, f)"
   ]
  },
  {
   "cell_type": "code",
   "execution_count": 13,
   "metadata": {},
   "outputs": [],
   "source": [
    "model_path = Path('data/wiki/hr-100/models')"
   ]
  },
  {
   "cell_type": "code",
   "execution_count": 14,
   "metadata": {},
   "outputs": [
    {
     "data": {
      "text/plain": [
       "[PosixPath('data/wiki/hr-100/models/lm_5.pth'),\n",
       " PosixPath('data/wiki/hr-100/models/lm_6.pth'),\n",
       " PosixPath('data/wiki/hr-100/models/hr-100-best.pth'),\n",
       " PosixPath('data/wiki/hr-100/models/lm_10.pth'),\n",
       " PosixPath('data/wiki/hr-100/models/lm_14.pth'),\n",
       " PosixPath('data/wiki/hr-100/models/lm_3.pth'),\n",
       " PosixPath('data/wiki/hr-100/models/lm-history.csv'),\n",
       " PosixPath('data/wiki/hr-100/models/lm_1.pth'),\n",
       " PosixPath('data/wiki/hr-100/models/itos.pkl'),\n",
       " PosixPath('data/wiki/hr-100/models/lm_9.pth'),\n",
       " PosixPath('data/wiki/hr-100/models/tmp.pth'),\n",
       " PosixPath('data/wiki/hr-100/models/lm_7.pth'),\n",
       " PosixPath('data/wiki/hr-100/models/lm_8.pth'),\n",
       " PosixPath('data/wiki/hr-100/models/lm_15.pth'),\n",
       " PosixPath('data/wiki/hr-100/models/lm_12.pth'),\n",
       " PosixPath('data/wiki/hr-100/models/lm_13.pth'),\n",
       " PosixPath('data/wiki/hr-100/models/lm_11.pth'),\n",
       " PosixPath('data/wiki/hr-100/models/lm_2.pth'),\n",
       " PosixPath('data/wiki/hr-100/models/lm_4.pth')]"
      ]
     },
     "execution_count": 14,
     "metadata": {},
     "output_type": "execute_result"
    }
   ],
   "source": [
    "model_path.ls()"
   ]
  },
  {
   "cell_type": "code",
   "execution_count": 23,
   "metadata": {},
   "outputs": [],
   "source": [
    "data_lm = TextLMDataBunch.from_csv(wiki_data_path, 'SviTvitovi.csv', text_cols=1, bs=30)"
   ]
  },
  {
   "cell_type": "code",
   "execution_count": 25,
   "metadata": {},
   "outputs": [
    {
     "name": "stdout",
     "output_type": "stream",
     "text": [
      "Size of vocabulary: 9750\n",
      "First 20 words in vocab: ['xxunk', 'xxpad', 'xxbos', 'xxfld', 'xxmaj', 'xxup', 'xxrep', 'xxwrep', '/', '\\n ', ',', '.', ':', 'i', 'u', 't.co', 'http', 'je', 'na', 'se']\n",
      "data/wiki/hr-100\n"
     ]
    }
   ],
   "source": [
    "itos, stoi, data_path = data_lm.vocab.itos, data_lm.vocab.stoi, data_lm.path\n",
    "print('Size of vocabulary:', len(itos))\n",
    "print('First 20 words in vocab:', itos[:20])\n",
    "print(str(data_path))"
   ]
  },
  {
   "cell_type": "code",
   "execution_count": 26,
   "metadata": {},
   "outputs": [
    {
     "data": {
      "text/html": [
       "<table border=\"1\" class=\"dataframe\">\n",
       "  <thead>\n",
       "    <tr style=\"text-align: right;\">\n",
       "      <th>idx</th>\n",
       "      <th>text</th>\n",
       "    </tr>\n",
       "  </thead>\n",
       "  <tbody>\n",
       "    <tr>\n",
       "      <td>0</td>\n",
       "      <td>/ xxunk \\n  xxbos xxunk xxunk fm nas je xxunk u goste sutra &gt; xxmaj radio xxmaj student 100.5 xxunk ili http : / / t.co / xxunk od 20:00 ... http : / / t.co / xxunk \\n  xxbos xxmaj neki ljudi govore , xxmaj dinamo je nekada bio ponos , xxmaj dinamo su voljeli i borili su se za njega ... xxmaj ne znam za druge</td>\n",
       "    </tr>\n",
       "    <tr>\n",
       "      <td>1</td>\n",
       "      <td>xxmaj lučić , xxmaj cipetić , xxmaj hajder , xxmaj kušeta , xxmaj xxunk , xxmaj mujan , xxmaj jelić @hajduk_hr \\n  xxbos @sasastankovic xxmaj da ... ma , godišnji će za tjedan dana .. ne se xxunk : ) \\n  xxbos xxmaj možete se xxunk oko cure / momka , faksa / posla , al jedini trud koji se zaista xxunk 100 % isplati je vježbanje i</td>\n",
       "    </tr>\n",
       "    <tr>\n",
       "      <td>2</td>\n",
       "      <td>xxup xxunk - a xxmaj hercegovine ! xxmaj večerašnji protivnik bio je xxunk xxmaj xxunk xxrep 4 . http : / / t.co / xxunk \\n  xxbos xxmaj ne mogu ove ljude kojima je xxunk šta će xxunk na cesti mislit nego vlastita sreća i xxunk . \\n  xxbos xxmaj xxunk je xxunk xxunk i radna mjesta , a sada poput xxmaj xxunk \" pere \" ruke od</td>\n",
       "    </tr>\n",
       "    <tr>\n",
       "      <td>3</td>\n",
       "      <td>/ / t.co / xxunk \\n  xxbos xxmaj biće mi žao možda kad se sutra xxunk i xxunk sve što sam xxunk \\n  xxbos xxmaj xxunk te jer xxup ti si sve sto mogu da xxunk . \\n  xxbos xxmaj inace , xxmaj tesla je bio veliki xxunk , otkud je xxunk znanje za svoje xxunk . xxmaj upoznao se s velikim xxmaj xxunk i xxunk xxmaj</td>\n",
       "    </tr>\n",
       "    <tr>\n",
       "      <td>4</td>\n",
       "      <td>tog godišnjeg u xxunk količinama \\n  xxbos @stellar_musique @pearsawfly @kresoz to objašnjava xxunk xxunk računa vikendom kad od 5 jedan prođe , a ostali čekaju pon . \\n  xxbos osim što je to svima jasno , hdz i javno xxunk svoje xxunk . xxunk sve niže , vraćamo se sve dalje u prošlost . # izborihr \\n  xxbos xxunk @vladarh pa da vidimo kako ćete ih promijenit</td>\n",
       "    </tr>\n",
       "  </tbody>\n",
       "</table>"
      ],
      "text/plain": [
       "<IPython.core.display.HTML object>"
      ]
     },
     "metadata": {},
     "output_type": "display_data"
    }
   ],
   "source": [
    "data_lm.show_batch()"
   ]
  },
  {
   "cell_type": "code",
   "execution_count": 27,
   "metadata": {},
   "outputs": [
    {
     "data": {
      "text/plain": [
       "(7999, 2001)"
      ]
     },
     "execution_count": 27,
     "metadata": {},
     "output_type": "execute_result"
    }
   ],
   "source": [
    "len(data_lm.train_ds), len(data_lm.valid_ds)\n"
   ]
  },
  {
   "cell_type": "code",
   "execution_count": 28,
   "metadata": {},
   "outputs": [],
   "source": [
    "pretrained_fnames = ['hr-100-best', 'itos']\n"
   ]
  },
  {
   "cell_type": "code",
   "execution_count": 35,
   "metadata": {},
   "outputs": [
    {
     "name": "stderr",
     "output_type": "stream",
     "text": [
      "/home/mkreso/master_thesis/fastai/fastai/datasets.py:153: YAMLLoadWarning: calling yaml.load() without Loader=... is deprecated, as the default Loader is unsafe. Please read https://msg.pyyaml.org/load for full details.\n",
      "  with open(fpath, 'r') as yaml_file: return yaml.load(yaml_file)\n"
     ]
    }
   ],
   "source": [
    "learner = language_model_learner(data_lm, AWD_LSTM, pretrained_fnames=pretrained_fnames, drop_mult=0.9, \n",
    "                                 model_dir='./models')"
   ]
  },
  {
   "cell_type": "code",
   "execution_count": 36,
   "metadata": {},
   "outputs": [],
   "source": [
    "learner.callback_fns += [partial(CSVLogger, filename=f\"{learner.model_dir}/lm-history\"),\n",
    "                         partial(SaveModelCallback, every='epoch', name='lm_finetuned')]"
   ]
  },
  {
   "cell_type": "code",
   "execution_count": 37,
   "metadata": {},
   "outputs": [],
   "source": [
    "learner.opt_func = partial(optim.Adam, betas=(0.8, 0.99))\n"
   ]
  },
  {
   "cell_type": "code",
   "execution_count": 38,
   "metadata": {},
   "outputs": [
    {
     "data": {
      "text/html": [],
      "text/plain": [
       "<IPython.core.display.HTML object>"
      ]
     },
     "metadata": {},
     "output_type": "display_data"
    },
    {
     "name": "stdout",
     "output_type": "stream",
     "text": [
      "LR Finder is complete, type {learner_name}.recorder.plot() to see the graph.\n"
     ]
    }
   ],
   "source": [
    "learner.lr_find()\n"
   ]
  },
  {
   "cell_type": "code",
   "execution_count": 39,
   "metadata": {},
   "outputs": [
    {
     "data": {
      "image/png": "[encoded data removed]",
      "text/plain": [
       "<Figure size 432x288 with 1 Axes>"
      ]
     },
     "metadata": {
      "needs_background": "light"
     },
     "output_type": "display_data"
    }
   ],
   "source": [
    "learner.recorder.plot(skip_end=15)\n"
   ]
  },
  {
   "cell_type": "code",
   "execution_count": 40,
   "metadata": {},
   "outputs": [],
   "source": [
    "moms = (0.8, 0.7)\n"
   ]
  },
  {
   "cell_type": "code",
   "execution_count": 41,
   "metadata": {},
   "outputs": [
    {
     "data": {
      "text/html": [
       "<table border=\"1\" class=\"dataframe\">\n",
       "  <thead>\n",
       "    <tr style=\"text-align: left;\">\n",
       "      <th>epoch</th>\n",
       "      <th>train_loss</th>\n",
       "      <th>valid_loss</th>\n",
       "      <th>accuracy</th>\n",
       "    </tr>\n",
       "  </thead>\n",
       "  <tbody>\n",
       "    <tr>\n",
       "      <td>1</td>\n",
       "      <td>4.771255</td>\n",
       "      <td>3.926194</td>\n",
       "      <td>0.378799</td>\n",
       "    </tr>\n",
       "  </tbody>\n",
       "</table>"
      ],
      "text/plain": [
       "<IPython.core.display.HTML object>"
      ]
     },
     "metadata": {},
     "output_type": "display_data"
    }
   ],
   "source": [
    "learner.fit_one_cycle(1, 1e-2, moms=moms)\n"
   ]
  },
  {
   "cell_type": "code",
   "execution_count": 42,
   "metadata": {},
   "outputs": [],
   "source": [
    "learner.unfreeze()"
   ]
  },
  {
   "cell_type": "code",
   "execution_count": 48,
   "metadata": {},
   "outputs": [
    {
     "data": {
      "text/html": [],
      "text/plain": [
       "<IPython.core.display.HTML object>"
      ]
     },
     "metadata": {},
     "output_type": "display_data"
    },
    {
     "name": "stdout",
     "output_type": "stream",
     "text": [
      "LR Finder is complete, type {learner_name}.recorder.plot() to see the graph.\n"
     ]
    }
   ],
   "source": [
    "learner.lr_find()"
   ]
  },
  {
   "cell_type": "code",
   "execution_count": 49,
   "metadata": {},
   "outputs": [
    {
     "data": {
      "image/png": "[encoded data removed]",
      "text/plain": [
       "<Figure size 432x288 with 1 Axes>"
      ]
     },
     "metadata": {
      "needs_background": "light"
     },
     "output_type": "display_data"
    }
   ],
   "source": [
    "learner.recorder.plot(skip_end=15)"
   ]
  },
  {
   "cell_type": "code",
   "execution_count": 50,
   "metadata": {},
   "outputs": [
    {
     "data": {
      "text/html": [
       "<table border=\"1\" class=\"dataframe\">\n",
       "  <thead>\n",
       "    <tr style=\"text-align: left;\">\n",
       "      <th>epoch</th>\n",
       "      <th>train_loss</th>\n",
       "      <th>valid_loss</th>\n",
       "      <th>accuracy</th>\n",
       "    </tr>\n",
       "  </thead>\n",
       "  <tbody>\n",
       "    <tr>\n",
       "      <td>1</td>\n",
       "      <td>138.098755</td>\n",
       "      <td>22.936020</td>\n",
       "      <td>0.008613</td>\n",
       "    </tr>\n",
       "    <tr>\n",
       "      <td>2</td>\n",
       "      <td>30.210627</td>\n",
       "      <td>8.949481</td>\n",
       "      <td>0.111346</td>\n",
       "    </tr>\n",
       "    <tr>\n",
       "      <td>3</td>\n",
       "      <td>11.893117</td>\n",
       "      <td>6.305987</td>\n",
       "      <td>0.153561</td>\n",
       "    </tr>\n",
       "    <tr>\n",
       "      <td>4</td>\n",
       "      <td>7.615515</td>\n",
       "      <td>5.253425</td>\n",
       "      <td>0.195983</td>\n",
       "    </tr>\n",
       "    <tr>\n",
       "      <td>5</td>\n",
       "      <td>6.302263</td>\n",
       "      <td>4.935703</td>\n",
       "      <td>0.261760</td>\n",
       "    </tr>\n",
       "    <tr>\n",
       "      <td>6</td>\n",
       "      <td>5.921392</td>\n",
       "      <td>4.834846</td>\n",
       "      <td>0.294265</td>\n",
       "    </tr>\n",
       "    <tr>\n",
       "      <td>7</td>\n",
       "      <td>5.601254</td>\n",
       "      <td>4.673698</td>\n",
       "      <td>0.315300</td>\n",
       "    </tr>\n",
       "    <tr>\n",
       "      <td>8</td>\n",
       "      <td>5.408549</td>\n",
       "      <td>4.583824</td>\n",
       "      <td>0.332443</td>\n",
       "    </tr>\n",
       "    <tr>\n",
       "      <td>9</td>\n",
       "      <td>5.323301</td>\n",
       "      <td>4.578050</td>\n",
       "      <td>0.335631</td>\n",
       "    </tr>\n",
       "    <tr>\n",
       "      <td>10</td>\n",
       "      <td>5.223105</td>\n",
       "      <td>4.492643</td>\n",
       "      <td>0.339689</td>\n",
       "    </tr>\n",
       "    <tr>\n",
       "      <td>11</td>\n",
       "      <td>5.159192</td>\n",
       "      <td>4.470500</td>\n",
       "      <td>0.340435</td>\n",
       "    </tr>\n",
       "    <tr>\n",
       "      <td>12</td>\n",
       "      <td>5.110268</td>\n",
       "      <td>4.429946</td>\n",
       "      <td>0.342650</td>\n",
       "    </tr>\n",
       "    <tr>\n",
       "      <td>13</td>\n",
       "      <td>5.055086</td>\n",
       "      <td>4.390303</td>\n",
       "      <td>0.342899</td>\n",
       "    </tr>\n",
       "    <tr>\n",
       "      <td>14</td>\n",
       "      <td>4.986681</td>\n",
       "      <td>4.359480</td>\n",
       "      <td>0.345549</td>\n",
       "    </tr>\n",
       "    <tr>\n",
       "      <td>15</td>\n",
       "      <td>4.944912</td>\n",
       "      <td>4.335079</td>\n",
       "      <td>0.345652</td>\n",
       "    </tr>\n",
       "    <tr>\n",
       "      <td>16</td>\n",
       "      <td>4.893952</td>\n",
       "      <td>4.319520</td>\n",
       "      <td>0.347164</td>\n",
       "    </tr>\n",
       "    <tr>\n",
       "      <td>17</td>\n",
       "      <td>4.869197</td>\n",
       "      <td>4.306693</td>\n",
       "      <td>0.347019</td>\n",
       "    </tr>\n",
       "    <tr>\n",
       "      <td>18</td>\n",
       "      <td>4.833809</td>\n",
       "      <td>4.293821</td>\n",
       "      <td>0.351594</td>\n",
       "    </tr>\n",
       "    <tr>\n",
       "      <td>19</td>\n",
       "      <td>4.810304</td>\n",
       "      <td>4.291014</td>\n",
       "      <td>0.352650</td>\n",
       "    </tr>\n",
       "    <tr>\n",
       "      <td>20</td>\n",
       "      <td>4.793315</td>\n",
       "      <td>4.290387</td>\n",
       "      <td>0.351739</td>\n",
       "    </tr>\n",
       "  </tbody>\n",
       "</table>"
      ],
      "text/plain": [
       "<IPython.core.display.HTML object>"
      ]
     },
     "metadata": {},
     "output_type": "display_data"
    }
   ],
   "source": [
    "learner.fit_one_cycle(20, 1e-2, moms=moms)"
   ]
  },
  {
   "cell_type": "code",
   "execution_count": null,
   "metadata": {},
   "outputs": [],
   "source": []
  }
 ],
 "metadata": {
  "kernelspec": {
   "display_name": "Python 3",
   "language": "python",
   "name": "python3"
  },
  "language_info": {
   "codemirror_mode": {
    "name": "ipython",
    "version": 3
   },
   "file_extension": ".py",
   "mimetype": "text/x-python",
   "name": "python",
   "nbconvert_exporter": "python",
   "pygments_lexer": "ipython3",
   "version": "3.7.3"
  }
 },
 "nbformat": 4,
 "nbformat_minor": 2
}
