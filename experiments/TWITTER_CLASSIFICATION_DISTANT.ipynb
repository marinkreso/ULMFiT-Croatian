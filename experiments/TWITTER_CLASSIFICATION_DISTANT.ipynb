{
 "cells": [
  {
   "cell_type": "code",
   "execution_count": 1,
   "metadata": {},
   "outputs": [
    {
     "name": "stdout",
     "output_type": "stream",
     "text": [
      "DEVICE NAME: GeForce GTX 1080\n",
      "DEVICE COUNT: 1\n",
      "CURRENT DEVICE: 0\n"
     ]
    }
   ],
   "source": [
    "import torch\n",
    "print(\"DEVICE NAME:\", torch.cuda.get_device_name(0))\n",
    "print(\"DEVICE COUNT:\", torch.cuda.device_count())\n",
    "print(\"CURRENT DEVICE:\", torch.cuda.current_device())"
   ]
  },
  {
   "cell_type": "code",
   "execution_count": 1,
   "metadata": {},
   "outputs": [
    {
     "name": "stdout",
     "output_type": "stream",
     "text": [
      "/home/mkreso/master_thesis/ulmfit-multilingual\n"
     ]
    }
   ],
   "source": [
    "from fastai import *\n",
    "from fastai.text import *\n",
    "from fastai.core import *\n",
    "from pathlib import Path\n",
    "import pandas as pd\n",
    "import numpy as np\n",
    "%cd ..\n",
    "from ulmfit.pretrain_lm import *\n",
    "from fastai.callbacks import CSVLogger, SaveModelCallback\n"
   ]
  },
  {
   "cell_type": "code",
   "execution_count": 2,
   "metadata": {},
   "outputs": [],
   "source": [
    "from sklearn.metrics import accuracy_score\n",
    "from sklearn.model_selection import train_test_split, KFold\n",
    "import warnings\n",
    "warnings.filterwarnings('ignore')"
   ]
  },
  {
   "cell_type": "code",
   "execution_count": 3,
   "metadata": {},
   "outputs": [],
   "source": [
    "wiki_data_path = Path('data/wiki/hr-100/')"
   ]
  },
  {
   "cell_type": "code",
   "execution_count": 5,
   "metadata": {},
   "outputs": [],
   "source": [
    "df_class = pd.read_csv('experiments/labeled_distant.csv')"
   ]
  },
  {
   "cell_type": "code",
   "execution_count": 6,
   "metadata": {},
   "outputs": [
    {
     "data": {
      "text/html": [
       "<div>\n",
       "<style scoped>\n",
       "    .dataframe tbody tr th:only-of-type {\n",
       "        vertical-align: middle;\n",
       "    }\n",
       "\n",
       "    .dataframe tbody tr th {\n",
       "        vertical-align: top;\n",
       "    }\n",
       "\n",
       "    .dataframe thead th {\n",
       "        text-align: right;\n",
       "    }\n",
       "</style>\n",
       "<table border=\"1\" class=\"dataframe\">\n",
       "  <thead>\n",
       "    <tr style=\"text-align: right;\">\n",
       "      <th></th>\n",
       "      <th>text</th>\n",
       "      <th>target</th>\n",
       "    </tr>\n",
       "  </thead>\n",
       "  <tbody>\n",
       "    <tr>\n",
       "      <th>0</th>\n",
       "      <td>@diidlina njamiiiiii :(\\n</td>\n",
       "      <td>Neg</td>\n",
       "    </tr>\n",
       "    <tr>\n",
       "      <th>1</th>\n",
       "      <td>Cura: sretan ti rođendan,izvoli poklon  Dečko:...</td>\n",
       "      <td>Neg</td>\n",
       "    </tr>\n",
       "    <tr>\n",
       "      <th>2</th>\n",
       "      <td>Objavi sliku i u opis stavi “Nije nešto“....Pa...</td>\n",
       "      <td>Neg</td>\n",
       "    </tr>\n",
       "    <tr>\n",
       "      <th>3</th>\n",
       "      <td>najjace su mi ove turske serije likovi voze bj...</td>\n",
       "      <td>Neg</td>\n",
       "    </tr>\n",
       "    <tr>\n",
       "      <th>4</th>\n",
       "      <td>jebem ti fb nemogu ništa ni lajkat -.-\\n</td>\n",
       "      <td>Neg</td>\n",
       "    </tr>\n",
       "  </tbody>\n",
       "</table>\n",
       "</div>"
      ],
      "text/plain": [
       "                                                text target\n",
       "0                          @diidlina njamiiiiii :(\\n    Neg\n",
       "1  Cura: sretan ti rođendan,izvoli poklon  Dečko:...    Neg\n",
       "2  Objavi sliku i u opis stavi “Nije nešto“....Pa...    Neg\n",
       "3  najjace su mi ove turske serije likovi voze bj...    Neg\n",
       "4           jebem ti fb nemogu ništa ni lajkat -.-\\n    Neg"
      ]
     },
     "execution_count": 6,
     "metadata": {},
     "output_type": "execute_result"
    }
   ],
   "source": [
    "df_class.head()"
   ]
  },
  {
   "cell_type": "code",
   "execution_count": 7,
   "metadata": {},
   "outputs": [],
   "source": [
    "data_lm = load_data(wiki_data_path, 'lm_finetuned', bs=30)"
   ]
  },
  {
   "cell_type": "code",
   "execution_count": 12,
   "metadata": {},
   "outputs": [],
   "source": [
    "def cv_ulmfit(data_lm):\n",
    "    df = pd.read_csv('experiments/labeled_distant.csv')\n",
    "    kf = KFold(n_splits=5, random_state=0, shuffle=True)\n",
    "    \n",
    "    features = df.text.values\n",
    "    labels = df.target.values\n",
    "    accuracies = []\n",
    "    for train_index, test_index in kf.split(features):\n",
    "        X_train, X_test = features[train_index], features[test_index]\n",
    "        y_train, y_test = labels[train_index], labels[test_index]\n",
    "        df_train = pd.DataFrame({'text': X_train, 'target': y_train})\n",
    "        df_test = pd.DataFrame({'text': X_test, 'target': y_test})\n",
    "        \n",
    "        df_train, df_valid = train_test_split(df_train, test_size=0.1, random_state=0)\n",
    "        data_class = TextClasDataBunch.from_df(path=wiki_data_path,\n",
    "                                          train_df=df_train,\n",
    "                                          valid_df=df_valid,\n",
    "                                           test_df=df_test,\n",
    "                                          vocab=data_lm.vocab, text_cols='text', label_cols='target', bs=30)\n",
    "        learner = text_classifier_learner(data_class, AWD_LSTM, drop_mult=0.5)\n",
    "        learner.load_encoder('ft_enc_c4')\n",
    "        learner.freeze()\n",
    "\n",
    "        learner.fit_one_cycle(1, 1e-2, moms=(0.8, 0.7))\n",
    "        learner.freeze_to(-2)\n",
    "        learner.fit_one_cycle(1, slice(1e-2/(2.6**4),1e-2), moms=(0.8,0.7))\n",
    "        learner.freeze_to(-3)\n",
    "        learner.fit_one_cycle(1, slice(5e-3/(2.6**4),5e-3), moms=(0.8,0.7))\n",
    "        learner.unfreeze()\n",
    "        learner.fit_one_cycle(5, slice(1e-3/(2.6**4),1e-3), moms=(0.8,0.7))\n",
    "\n",
    "        p = learner.get_preds(DatasetType.Test, ordered=True)[0].numpy()\n",
    "        predictions = np.argmax(p, axis=1)\n",
    "\n",
    "        df_test['label'] = 0\n",
    "        for i in range(1, len(data_class.train_ds.classes)):\n",
    "            df_test.loc[df_test.target == data_class.train_ds.classes[i], 'label' ] = i\n",
    "        accuracies.append(accuracy_score(df_test.label.values, predictions))\n",
    "    print('ACCURACY:', sum(accuracies) / len(accuracies))\n",
    "    return accuracies\n",
    "\n",
    "        \n",
    "                                \n",
    "                               "
   ]
  },
  {
   "cell_type": "code",
   "execution_count": 13,
   "metadata": {},
   "outputs": [
    {
     "name": "stdout",
     "output_type": "stream",
     "text": [
      "ACCURACY: 0.9887860104242879\n"
     ]
    },
    {
     "data": {
      "text/plain": [
       "[0.9891089108910891,\n",
       " 0.9887362297314024,\n",
       " 0.988983785121921,\n",
       " 0.9884886743408837,\n",
       " 0.9886124520361431]"
      ]
     },
     "execution_count": 13,
     "metadata": {},
     "output_type": "execute_result"
    }
   ],
   "source": [
    "cv_ulmfit(data_lm)"
   ]
  }
 ],
 "metadata": {
  "kernelspec": {
   "display_name": "Python 3",
   "language": "python",
   "name": "python3"
  },
  "language_info": {
   "codemirror_mode": {
    "name": "ipython",
    "version": 3
   },
   "file_extension": ".py",
   "mimetype": "text/x-python",
   "name": "python",
   "nbconvert_exporter": "python",
   "pygments_lexer": "ipython3",
   "version": "3.7.3"
  }
 },
 "nbformat": 4,
 "nbformat_minor": 2
}
